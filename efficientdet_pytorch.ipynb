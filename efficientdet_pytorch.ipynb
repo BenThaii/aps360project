{
  "nbformat": 4,
  "nbformat_minor": 0,
  "metadata": {
    "colab": {
      "name": "efficientdet_pytorch.ipynb",
      "provenance": [],
      "collapsed_sections": [],
      "toc_visible": true,
      "authorship_tag": "ABX9TyPtEA/dlD0r2U/qnr2nAYz5",
      "include_colab_link": true
    },
    "kernelspec": {
      "name": "python3",
      "display_name": "Python 3"
    }
  },
  "cells": [
    {
      "cell_type": "markdown",
      "metadata": {
        "id": "view-in-github",
        "colab_type": "text"
      },
      "source": [
        "<a href=\"https://colab.research.google.com/github/BenThaii/aps360project/blob/master/efficientdet_pytorch.ipynb\" target=\"_parent\"><img src=\"https://colab.research.google.com/assets/colab-badge.svg\" alt=\"Open In Colab\"/></a>"
      ]
    },
    {
      "cell_type": "code",
      "metadata": {
        "colab": {
          "base_uri": "https://localhost:8080/"
        },
        "id": "aSgnhVeYePrw",
        "outputId": "6acdcb84-3dd3-4c39-8f73-6d83e44a4604"
      },
      "source": [
        "#clone code from a github repository\r\n",
        "!git clone https://github.com/BenThaii/aps360project.git"
      ],
      "execution_count": 5,
      "outputs": [
        {
          "output_type": "stream",
          "text": [
            "Cloning into 'aps360project'...\n",
            "remote: Enumerating objects: 897, done.\u001b[K\n",
            "remote: Counting objects: 100% (897/897), done.\u001b[K\n",
            "remote: Compressing objects: 100% (272/272), done.\u001b[K\n",
            "remote: Total 897 (delta 604), reused 897 (delta 604), pack-reused 0\u001b[K\n",
            "Receiving objects: 100% (897/897), 258.58 KiB | 3.27 MiB/s, done.\n",
            "Resolving deltas: 100% (604/604), done.\n"
          ],
          "name": "stdout"
        }
      ]
    },
    {
      "cell_type": "code",
      "metadata": {
        "id": "gn5ESPLTp95g"
      },
      "source": [
        ""
      ],
      "execution_count": null,
      "outputs": []
    }
  ]
}